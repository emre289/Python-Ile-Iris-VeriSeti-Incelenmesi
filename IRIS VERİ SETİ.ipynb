{
 "cells": [
  {
   "cell_type": "code",
   "execution_count": 2,
   "id": "9df429f4",
   "metadata": {},
   "outputs": [],
   "source": [
    "import seaborn as sbn\n",
    "import pandas as pd\n",
    "import numpy as np\n",
    "from sklearn.multiclass import OneVsRestClassifier\n",
    "from sklearn.svm import SVC\n",
    "from sklearn import preprocessing\n",
    "from sklearn.metrics import confusion_matrix\n",
    "from xgboost import XGBClassifier\n",
    "from sklearn.model_selection import train_test_split\n",
    "from sklearn.metrics import confusion_matrix, accuracy_score, classification_report\n",
    "from sklearn.metrics import precision_score\n",
    "from sklearn.metrics import roc_auc_score,roc_curve\n",
    "from sklearn.metrics import r2_score\n",
    "from sklearn.metrics import f1_score\n",
    "from sklearn.ensemble import RandomForestClassifier\n",
    "from sklearn.preprocessing import StandardScaler"
   ]
  },
  {
   "cell_type": "markdown",
   "id": "8b76d392",
   "metadata": {},
   "source": [
    "# Verilerin Yüklenmesi"
   ]
  },
  {
   "cell_type": "code",
   "execution_count": 3,
   "id": "93277c1a",
   "metadata": {},
   "outputs": [
    {
     "data": {
      "text/html": [
       "<div>\n",
       "<style scoped>\n",
       "    .dataframe tbody tr th:only-of-type {\n",
       "        vertical-align: middle;\n",
       "    }\n",
       "\n",
       "    .dataframe tbody tr th {\n",
       "        vertical-align: top;\n",
       "    }\n",
       "\n",
       "    .dataframe thead th {\n",
       "        text-align: right;\n",
       "    }\n",
       "</style>\n",
       "<table border=\"1\" class=\"dataframe\">\n",
       "  <thead>\n",
       "    <tr style=\"text-align: right;\">\n",
       "      <th></th>\n",
       "      <th>sepal_length</th>\n",
       "      <th>sepal_width</th>\n",
       "      <th>petal_length</th>\n",
       "      <th>petal_width</th>\n",
       "      <th>species</th>\n",
       "    </tr>\n",
       "  </thead>\n",
       "  <tbody>\n",
       "    <tr>\n",
       "      <th>0</th>\n",
       "      <td>5.1</td>\n",
       "      <td>3.5</td>\n",
       "      <td>1.4</td>\n",
       "      <td>0.2</td>\n",
       "      <td>setosa</td>\n",
       "    </tr>\n",
       "    <tr>\n",
       "      <th>1</th>\n",
       "      <td>4.9</td>\n",
       "      <td>3.0</td>\n",
       "      <td>1.4</td>\n",
       "      <td>0.2</td>\n",
       "      <td>setosa</td>\n",
       "    </tr>\n",
       "    <tr>\n",
       "      <th>2</th>\n",
       "      <td>4.7</td>\n",
       "      <td>3.2</td>\n",
       "      <td>1.3</td>\n",
       "      <td>0.2</td>\n",
       "      <td>setosa</td>\n",
       "    </tr>\n",
       "    <tr>\n",
       "      <th>3</th>\n",
       "      <td>4.6</td>\n",
       "      <td>3.1</td>\n",
       "      <td>1.5</td>\n",
       "      <td>0.2</td>\n",
       "      <td>setosa</td>\n",
       "    </tr>\n",
       "    <tr>\n",
       "      <th>4</th>\n",
       "      <td>5.0</td>\n",
       "      <td>3.6</td>\n",
       "      <td>1.4</td>\n",
       "      <td>0.2</td>\n",
       "      <td>setosa</td>\n",
       "    </tr>\n",
       "    <tr>\n",
       "      <th>...</th>\n",
       "      <td>...</td>\n",
       "      <td>...</td>\n",
       "      <td>...</td>\n",
       "      <td>...</td>\n",
       "      <td>...</td>\n",
       "    </tr>\n",
       "    <tr>\n",
       "      <th>145</th>\n",
       "      <td>6.7</td>\n",
       "      <td>3.0</td>\n",
       "      <td>5.2</td>\n",
       "      <td>2.3</td>\n",
       "      <td>virginica</td>\n",
       "    </tr>\n",
       "    <tr>\n",
       "      <th>146</th>\n",
       "      <td>6.3</td>\n",
       "      <td>2.5</td>\n",
       "      <td>5.0</td>\n",
       "      <td>1.9</td>\n",
       "      <td>virginica</td>\n",
       "    </tr>\n",
       "    <tr>\n",
       "      <th>147</th>\n",
       "      <td>6.5</td>\n",
       "      <td>3.0</td>\n",
       "      <td>5.2</td>\n",
       "      <td>2.0</td>\n",
       "      <td>virginica</td>\n",
       "    </tr>\n",
       "    <tr>\n",
       "      <th>148</th>\n",
       "      <td>6.2</td>\n",
       "      <td>3.4</td>\n",
       "      <td>5.4</td>\n",
       "      <td>2.3</td>\n",
       "      <td>virginica</td>\n",
       "    </tr>\n",
       "    <tr>\n",
       "      <th>149</th>\n",
       "      <td>5.9</td>\n",
       "      <td>3.0</td>\n",
       "      <td>5.1</td>\n",
       "      <td>1.8</td>\n",
       "      <td>virginica</td>\n",
       "    </tr>\n",
       "  </tbody>\n",
       "</table>\n",
       "<p>150 rows × 5 columns</p>\n",
       "</div>"
      ],
      "text/plain": [
       "     sepal_length  sepal_width  petal_length  petal_width    species\n",
       "0             5.1          3.5           1.4          0.2     setosa\n",
       "1             4.9          3.0           1.4          0.2     setosa\n",
       "2             4.7          3.2           1.3          0.2     setosa\n",
       "3             4.6          3.1           1.5          0.2     setosa\n",
       "4             5.0          3.6           1.4          0.2     setosa\n",
       "..            ...          ...           ...          ...        ...\n",
       "145           6.7          3.0           5.2          2.3  virginica\n",
       "146           6.3          2.5           5.0          1.9  virginica\n",
       "147           6.5          3.0           5.2          2.0  virginica\n",
       "148           6.2          3.4           5.4          2.3  virginica\n",
       "149           5.9          3.0           5.1          1.8  virginica\n",
       "\n",
       "[150 rows x 5 columns]"
      ]
     },
     "execution_count": 3,
     "metadata": {},
     "output_type": "execute_result"
    }
   ],
   "source": [
    "veri=sbn.load_dataset(\"iris\")\n",
    "veri"
   ]
  },
  {
   "cell_type": "markdown",
   "id": "fe896090",
   "metadata": {},
   "source": [
    "# Ön İşleme Adımları"
   ]
  },
  {
   "cell_type": "markdown",
   "id": "68564e4d",
   "metadata": {},
   "source": [
    "- AYKIRI GÖZLEM ANALİZİ"
   ]
  },
  {
   "cell_type": "code",
   "execution_count": 4,
   "id": "cdd4ba48",
   "metadata": {},
   "outputs": [
    {
     "data": {
      "text/plain": [
       "<AxesSubplot:xlabel='sepal_length'>"
      ]
     },
     "execution_count": 4,
     "metadata": {},
     "output_type": "execute_result"
    },
    {
     "data": {
      "image/png": "[encoded data removed]",
      "text/plain": [
       "<Figure size 432x288 with 1 Axes>"
      ]
     },
     "metadata": {
      "needs_background": "light"
     },
     "output_type": "display_data"
    }
   ],
   "source": [
    "# Veri setindeki bağımsız değişken değerleri float olduğu için sadece onları çağırdık \n",
    "df=veri.select_dtypes(include=[\"float64\"])\n",
    "sepal_len=df[\"sepal_length\"]\n",
    "sbn.boxplot(x=sepal_len)"
   ]
  },
  {
   "cell_type": "code",
   "execution_count": 5,
   "id": "b40bab3c",
   "metadata": {},
   "outputs": [
    {
     "data": {
      "text/plain": [
       "<AxesSubplot:xlabel='sepal_width'>"
      ]
     },
     "execution_count": 5,
     "metadata": {},
     "output_type": "execute_result"
    },
    {
     "data": {
      "image/png": "[encoded data removed]",
      "text/plain": [
       "<Figure size 432x288 with 1 Axes>"
      ]
     },
     "metadata": {
      "needs_background": "light"
     },
     "output_type": "display_data"
    }
   ],
   "source": [
    "sepal_wid=df[\"sepal_width\"]\n",
    "sbn.boxplot(x=sepal_wid)"
   ]
  },
  {
   "cell_type": "code",
   "execution_count": 6,
   "id": "28bb8920",
   "metadata": {},
   "outputs": [],
   "source": [
    "Q1=sepal_wid.quantile(0.25)\n",
    "Q3=sepal_wid.quantile(0.75)\n",
    "IQR=Q3-Q1"
   ]
  },
  {
   "cell_type": "code",
   "execution_count": 7,
   "id": "4e317074",
   "metadata": {},
   "outputs": [
    {
     "data": {
      "text/plain": [
       "15    4.4\n",
       "32    4.1\n",
       "33    4.2\n",
       "60    2.0\n",
       "Name: sepal_width, dtype: float64"
      ]
     },
     "execution_count": 7,
     "metadata": {},
     "output_type": "execute_result"
    }
   ],
   "source": [
    "alt_sınır=Q1-1.5*IQR\n",
    "ust_sınır=Q3+1.5*IQR\n",
    "aykır_tf=(sepal_wid<alt_sınır)|((sepal_wid>ust_sınır))\n",
    "sepal_wid[aykır_tf]"
   ]
  },
  {
   "cell_type": "code",
   "execution_count": 8,
   "id": "e20ddc07",
   "metadata": {},
   "outputs": [
    {
     "data": {
      "text/plain": [
       "(146,)"
      ]
     },
     "execution_count": 8,
     "metadata": {},
     "output_type": "execute_result"
    }
   ],
   "source": [
    "t_tf=sepal_wid[~((sepal_wid<(alt_sınır))|(sepal_wid>(ust_sınır)))]\n",
    "t_tf.shape"
   ]
  },
  {
   "cell_type": "code",
   "execution_count": 10,
   "id": "1f85e56a",
   "metadata": {},
   "outputs": [
    {
     "data": {
      "text/plain": [
       "3.057333333333334"
      ]
     },
     "execution_count": 10,
     "metadata": {},
     "output_type": "execute_result"
    }
   ],
   "source": [
    "sepal_wid.mean()\n"
   ]
  },
  {
   "cell_type": "code",
   "execution_count": 12,
   "id": "2e40bd7e",
   "metadata": {},
   "outputs": [],
   "source": [
    "yedek=veri.copy()\n",
    "yedek.drop(\"sepal_width\",axis=1,inplace=True)"
   ]
  },
  {
   "cell_type": "code",
   "execution_count": 18,
   "id": "51b4d42f",
   "metadata": {
    "scrolled": true
   },
   "outputs": [
    {
     "name": "stderr",
     "output_type": "stream",
     "text": [
      "C:\\Users\\emre2\\anaconda3\\lib\\site-packages\\pandas\\core\\generic.py:8870: SettingWithCopyWarning: \n",
      "A value is trying to be set on a copy of a slice from a DataFrame\n",
      "\n",
      "See the caveats in the documentation: https://pandas.pydata.org/pandas-docs/stable/user_guide/indexing.html#returning-a-view-versus-a-copy\n",
      "  return self._update_inplace(result)\n"
     ]
    },
    {
     "data": {
      "text/plain": [
       "15    3.040411\n",
       "32    3.040411\n",
       "33    3.040411\n",
       "60    3.040411\n",
       "Name: sepal_width, dtype: float64"
      ]
     },
     "execution_count": 18,
     "metadata": {},
     "output_type": "execute_result"
    }
   ],
   "source": [
    "sepal_wid[aykır_tf]=sepal_wid.mean()\n",
    "a=pd.DataFrame(t_tf)\n",
    "b=pd.DataFrame(sepal_wid[aykır_tf])\n",
    "duz_veri=pd.concat([a, b], axis=0).sort_index() \n",
    "son_veri=pd.concat([yedek,duz_veri],axis=1)\n",
    "son_veri=son_veri[[\"sepal_length\",\"sepal_width\",\"petal_length\",\"petal_width\",\"species\"]]\n",
    "dizim=[15,32,33,60]\n",
    "son_veri[\"sepal_width\"][dizim]"
   ]
  },
  {
   "cell_type": "markdown",
   "id": "c509c1e2",
   "metadata": {},
   "source": [
    "- AYKIRI DEĞERLERİ ORTALAMA İLE DOLDURDUK"
   ]
  },
  {
   "cell_type": "code",
   "execution_count": 19,
   "id": "cc4e8993",
   "metadata": {},
   "outputs": [
    {
     "data": {
      "text/plain": [
       "<AxesSubplot:xlabel='petal_length'>"
      ]
     },
     "execution_count": 19,
     "metadata": {},
     "output_type": "execute_result"
    },
    {
     "data": {
      "image/png": "[encoded data removed]",
      "text/plain": [
       "<Figure size 432x288 with 1 Axes>"
      ]
     },
     "metadata": {
      "needs_background": "light"
     },
     "output_type": "display_data"
    }
   ],
   "source": [
    "petal_len=df[\"petal_length\"]\n",
    "sbn.boxplot(x=petal_len)"
   ]
  },
  {
   "cell_type": "code",
   "execution_count": 20,
   "id": "ba3c1043",
   "metadata": {},
   "outputs": [
    {
     "data": {
      "text/plain": [
       "<AxesSubplot:xlabel='petal_width'>"
      ]
     },
     "execution_count": 20,
     "metadata": {},
     "output_type": "execute_result"
    },
    {
     "data": {
      "image/png": "[encoded data removed]",
      "text/plain": [
       "<Figure size 432x288 with 1 Axes>"
      ]
     },
     "metadata": {
      "needs_background": "light"
     },
     "output_type": "display_data"
    }
   ],
   "source": [
    "petal_wid=df[\"petal_width\"]\n",
    "sbn.boxplot(x=petal_wid)"
   ]
  },
  {
   "cell_type": "code",
   "execution_count": null,
   "id": "5bcfa4b3",
   "metadata": {},
   "outputs": [],
   "source": [
    "veri.corr()"
   ]
  },
  {
   "cell_type": "markdown",
   "id": "dea5f212",
   "metadata": {},
   "source": [
    "- Korelasyon Matrisi ile yukarıda bağımsız değişkenlerin birbirleri arasında ki ilişkiyi görüyoruz."
   ]
  },
  {
   "cell_type": "code",
   "execution_count": null,
   "id": "4ee41d72",
   "metadata": {},
   "outputs": [],
   "source": [
    "veri.describe().T"
   ]
  },
  {
   "cell_type": "markdown",
   "id": "658673a1",
   "metadata": {},
   "source": [
    "- Bağımsız değişkenler hakkında genel bilgilendirme yapılıyor"
   ]
  },
  {
   "cell_type": "code",
   "execution_count": null,
   "id": "6abb4d0c",
   "metadata": {},
   "outputs": [],
   "source": [
    "veri.info()"
   ]
  },
  {
   "cell_type": "markdown",
   "id": "21b71da9",
   "metadata": {},
   "source": [
    "- İnfo, değişkenlerin tipleri ve türlüleri hakkında bilgi veriyor. Tablodan anlaşılacağı gibi null değerimiz yok"
   ]
  },
  {
   "cell_type": "markdown",
   "id": "68d8b9a2",
   "metadata": {},
   "source": [
    "# Bağımlı Kategorik Değişkenleri Numerice Çevireceğiz"
   ]
  },
  {
   "cell_type": "code",
   "execution_count": 22,
   "id": "4064dc70",
   "metadata": {},
   "outputs": [],
   "source": [
    "tür=son_veri.iloc[:,-1].values\n",
    "le=preprocessing.LabelEncoder()\n",
    "tür=le.fit_transform(tür).reshape(150,1)"
   ]
  },
  {
   "cell_type": "code",
   "execution_count": 23,
   "id": "8aa0993f",
   "metadata": {},
   "outputs": [],
   "source": [
    "ohe=preprocessing.OneHotEncoder()\n",
    "tür=ohe.fit_transform(tür).toarray()"
   ]
  },
  {
   "cell_type": "code",
   "execution_count": 25,
   "id": "8ead3a5f",
   "metadata": {},
   "outputs": [
    {
     "data": {
      "text/html": [
       "<div>\n",
       "<style scoped>\n",
       "    .dataframe tbody tr th:only-of-type {\n",
       "        vertical-align: middle;\n",
       "    }\n",
       "\n",
       "    .dataframe tbody tr th {\n",
       "        vertical-align: top;\n",
       "    }\n",
       "\n",
       "    .dataframe thead th {\n",
       "        text-align: right;\n",
       "    }\n",
       "</style>\n",
       "<table border=\"1\" class=\"dataframe\">\n",
       "  <thead>\n",
       "    <tr style=\"text-align: right;\">\n",
       "      <th></th>\n",
       "      <th>setosa</th>\n",
       "      <th>versicolor</th>\n",
       "      <th>virginica</th>\n",
       "    </tr>\n",
       "  </thead>\n",
       "  <tbody>\n",
       "    <tr>\n",
       "      <th>0</th>\n",
       "      <td>1.0</td>\n",
       "      <td>0.0</td>\n",
       "      <td>0.0</td>\n",
       "    </tr>\n",
       "    <tr>\n",
       "      <th>1</th>\n",
       "      <td>1.0</td>\n",
       "      <td>0.0</td>\n",
       "      <td>0.0</td>\n",
       "    </tr>\n",
       "    <tr>\n",
       "      <th>2</th>\n",
       "      <td>1.0</td>\n",
       "      <td>0.0</td>\n",
       "      <td>0.0</td>\n",
       "    </tr>\n",
       "    <tr>\n",
       "      <th>3</th>\n",
       "      <td>1.0</td>\n",
       "      <td>0.0</td>\n",
       "      <td>0.0</td>\n",
       "    </tr>\n",
       "    <tr>\n",
       "      <th>4</th>\n",
       "      <td>1.0</td>\n",
       "      <td>0.0</td>\n",
       "      <td>0.0</td>\n",
       "    </tr>\n",
       "  </tbody>\n",
       "</table>\n",
       "</div>"
      ],
      "text/plain": [
       "   setosa  versicolor  virginica\n",
       "0     1.0         0.0        0.0\n",
       "1     1.0         0.0        0.0\n",
       "2     1.0         0.0        0.0\n",
       "3     1.0         0.0        0.0\n",
       "4     1.0         0.0        0.0"
      ]
     },
     "execution_count": 25,
     "metadata": {},
     "output_type": "execute_result"
    }
   ],
   "source": [
    "türSon=pd.DataFrame(data=tür,index=range(150),columns=[\"setosa\",\"versicolor\",\"virginica\"])\n",
    "türSon.head()"
   ]
  },
  {
   "cell_type": "code",
   "execution_count": 26,
   "id": "45da452e",
   "metadata": {},
   "outputs": [
    {
     "data": {
      "text/html": [
       "<div>\n",
       "<style scoped>\n",
       "    .dataframe tbody tr th:only-of-type {\n",
       "        vertical-align: middle;\n",
       "    }\n",
       "\n",
       "    .dataframe tbody tr th {\n",
       "        vertical-align: top;\n",
       "    }\n",
       "\n",
       "    .dataframe thead th {\n",
       "        text-align: right;\n",
       "    }\n",
       "</style>\n",
       "<table border=\"1\" class=\"dataframe\">\n",
       "  <thead>\n",
       "    <tr style=\"text-align: right;\">\n",
       "      <th></th>\n",
       "      <th>sepal_length</th>\n",
       "      <th>sepal_width</th>\n",
       "      <th>petal_length</th>\n",
       "      <th>petal_width</th>\n",
       "    </tr>\n",
       "  </thead>\n",
       "  <tbody>\n",
       "    <tr>\n",
       "      <th>0</th>\n",
       "      <td>5.1</td>\n",
       "      <td>3.5</td>\n",
       "      <td>1.4</td>\n",
       "      <td>0.2</td>\n",
       "    </tr>\n",
       "    <tr>\n",
       "      <th>1</th>\n",
       "      <td>4.9</td>\n",
       "      <td>3.0</td>\n",
       "      <td>1.4</td>\n",
       "      <td>0.2</td>\n",
       "    </tr>\n",
       "    <tr>\n",
       "      <th>2</th>\n",
       "      <td>4.7</td>\n",
       "      <td>3.2</td>\n",
       "      <td>1.3</td>\n",
       "      <td>0.2</td>\n",
       "    </tr>\n",
       "    <tr>\n",
       "      <th>3</th>\n",
       "      <td>4.6</td>\n",
       "      <td>3.1</td>\n",
       "      <td>1.5</td>\n",
       "      <td>0.2</td>\n",
       "    </tr>\n",
       "    <tr>\n",
       "      <th>4</th>\n",
       "      <td>5.0</td>\n",
       "      <td>3.6</td>\n",
       "      <td>1.4</td>\n",
       "      <td>0.2</td>\n",
       "    </tr>\n",
       "  </tbody>\n",
       "</table>\n",
       "</div>"
      ],
      "text/plain": [
       "   sepal_length  sepal_width  petal_length  petal_width\n",
       "0           5.1          3.5           1.4          0.2\n",
       "1           4.9          3.0           1.4          0.2\n",
       "2           4.7          3.2           1.3          0.2\n",
       "3           4.6          3.1           1.5          0.2\n",
       "4           5.0          3.6           1.4          0.2"
      ]
     },
     "execution_count": 26,
     "metadata": {},
     "output_type": "execute_result"
    }
   ],
   "source": [
    "y_veri=son_veri.iloc[:,0:4]\n",
    "y_veri.head()"
   ]
  },
  {
   "cell_type": "code",
   "execution_count": 29,
   "id": "f8afe4c3",
   "metadata": {},
   "outputs": [
    {
     "data": {
      "text/html": [
       "<div>\n",
       "<style scoped>\n",
       "    .dataframe tbody tr th:only-of-type {\n",
       "        vertical-align: middle;\n",
       "    }\n",
       "\n",
       "    .dataframe tbody tr th {\n",
       "        vertical-align: top;\n",
       "    }\n",
       "\n",
       "    .dataframe thead th {\n",
       "        text-align: right;\n",
       "    }\n",
       "</style>\n",
       "<table border=\"1\" class=\"dataframe\">\n",
       "  <thead>\n",
       "    <tr style=\"text-align: right;\">\n",
       "      <th></th>\n",
       "      <th>sepal_length</th>\n",
       "      <th>sepal_width</th>\n",
       "      <th>petal_length</th>\n",
       "      <th>petal_width</th>\n",
       "      <th>setosa</th>\n",
       "      <th>versicolor</th>\n",
       "      <th>virginica</th>\n",
       "    </tr>\n",
       "  </thead>\n",
       "  <tbody>\n",
       "    <tr>\n",
       "      <th>0</th>\n",
       "      <td>5.1</td>\n",
       "      <td>3.5</td>\n",
       "      <td>1.4</td>\n",
       "      <td>0.2</td>\n",
       "      <td>1.0</td>\n",
       "      <td>0.0</td>\n",
       "      <td>0.0</td>\n",
       "    </tr>\n",
       "    <tr>\n",
       "      <th>1</th>\n",
       "      <td>4.9</td>\n",
       "      <td>3.0</td>\n",
       "      <td>1.4</td>\n",
       "      <td>0.2</td>\n",
       "      <td>1.0</td>\n",
       "      <td>0.0</td>\n",
       "      <td>0.0</td>\n",
       "    </tr>\n",
       "    <tr>\n",
       "      <th>2</th>\n",
       "      <td>4.7</td>\n",
       "      <td>3.2</td>\n",
       "      <td>1.3</td>\n",
       "      <td>0.2</td>\n",
       "      <td>1.0</td>\n",
       "      <td>0.0</td>\n",
       "      <td>0.0</td>\n",
       "    </tr>\n",
       "    <tr>\n",
       "      <th>3</th>\n",
       "      <td>4.6</td>\n",
       "      <td>3.1</td>\n",
       "      <td>1.5</td>\n",
       "      <td>0.2</td>\n",
       "      <td>1.0</td>\n",
       "      <td>0.0</td>\n",
       "      <td>0.0</td>\n",
       "    </tr>\n",
       "    <tr>\n",
       "      <th>4</th>\n",
       "      <td>5.0</td>\n",
       "      <td>3.6</td>\n",
       "      <td>1.4</td>\n",
       "      <td>0.2</td>\n",
       "      <td>1.0</td>\n",
       "      <td>0.0</td>\n",
       "      <td>0.0</td>\n",
       "    </tr>\n",
       "  </tbody>\n",
       "</table>\n",
       "</div>"
      ],
      "text/plain": [
       "   sepal_length  sepal_width  petal_length  petal_width  setosa  versicolor  \\\n",
       "0           5.1          3.5           1.4          0.2     1.0         0.0   \n",
       "1           4.9          3.0           1.4          0.2     1.0         0.0   \n",
       "2           4.7          3.2           1.3          0.2     1.0         0.0   \n",
       "3           4.6          3.1           1.5          0.2     1.0         0.0   \n",
       "4           5.0          3.6           1.4          0.2     1.0         0.0   \n",
       "\n",
       "   virginica  \n",
       "0        0.0  \n",
       "1        0.0  \n",
       "2        0.0  \n",
       "3        0.0  \n",
       "4        0.0  "
      ]
     },
     "execution_count": 29,
     "metadata": {},
     "output_type": "execute_result"
    }
   ],
   "source": [
    "birlesme=pd.concat([y_veri,türSon],axis=1)\n",
    "birlesme.head()"
   ]
  },
  {
   "cell_type": "code",
   "execution_count": 30,
   "id": "30f19002",
   "metadata": {},
   "outputs": [],
   "source": [
    "# Bağımsız Değişkenler\n",
    "x=birlesme.iloc[:,0:4].values\n",
    "# Bağımlı Değişkenler\n",
    "y=birlesme.iloc[:,4:].values "
   ]
  },
  {
   "cell_type": "markdown",
   "id": "8b16eb31",
   "metadata": {},
   "source": [
    "# TEST/TRAİN"
   ]
  },
  {
   "cell_type": "code",
   "execution_count": 31,
   "id": "cbd90267",
   "metadata": {},
   "outputs": [],
   "source": [
    "x_train, x_test, y_train, y_test=train_test_split(x,y,test_size=0.30,random_state=0)"
   ]
  },
  {
   "cell_type": "markdown",
   "id": "b7213139",
   "metadata": {},
   "source": [
    "# Verilerin Olceklenmesi"
   ]
  },
  {
   "cell_type": "code",
   "execution_count": 32,
   "id": "d3bbbb66",
   "metadata": {},
   "outputs": [],
   "source": [
    "sc=StandardScaler()\n",
    "X_train = sc.fit_transform(x_train)\n",
    "# Xtrainden öğrendiğini (fit) X_testte uygula\n",
    "X_test = sc.transform(x_test)"
   ]
  },
  {
   "cell_type": "markdown",
   "id": "f8ef0ab6",
   "metadata": {},
   "source": [
    "# XGBOOST"
   ]
  },
  {
   "cell_type": "code",
   "execution_count": 33,
   "id": "448d7452",
   "metadata": {},
   "outputs": [],
   "source": [
    "xgb=XGBClassifier()\n",
    "xgb.fit(X_train,y_train)\n",
    "y_pred=xgb.predict(X_test)"
   ]
  },
  {
   "cell_type": "markdown",
   "id": "82ee732a",
   "metadata": {},
   "source": [
    "# RANDOM FOREST"
   ]
  },
  {
   "cell_type": "code",
   "execution_count": 34,
   "id": "2b3389ec",
   "metadata": {},
   "outputs": [],
   "source": [
    "rfc=RandomForestClassifier(n_estimators=12,criterion=\"entropy\")\n",
    "rfc.fit(X_train,y_train)\n",
    "y_pred=rfc.predict(X_test)"
   ]
  },
  {
   "cell_type": "markdown",
   "id": "9bf50941",
   "metadata": {},
   "source": [
    "# SVM"
   ]
  },
  {
   "cell_type": "code",
   "execution_count": 35,
   "id": "1984db67",
   "metadata": {},
   "outputs": [],
   "source": [
    "svm = OneVsRestClassifier(SVC(kernel = 'linear', decision_function_shape = 'ovo')).fit(X_train, y_train)\n",
    "y_pred=svm.predict(X_test)"
   ]
  },
  {
   "cell_type": "code",
   "execution_count": 36,
   "id": "81cae567",
   "metadata": {},
   "outputs": [
    {
     "name": "stdout",
     "output_type": "stream",
     "text": [
      "--------------------------\n",
      "XGBClassifier:\n",
      "Accuracy: 97.7778%\n",
      "Precion Değeri: \n",
      "0.9777777777777777\n",
      "Cofficient Değeri: \n",
      "[[16  0  0]\n",
      " [ 0 17  1]\n",
      " [ 0  0 11]]\n",
      "Roc Auc Değeri: \n",
      "0.9858387799564271\n",
      "R2 Değeri: \n",
      "0.9290288505974781\n",
      "--------------------------\n",
      "RandomForestClassifier:\n",
      "Accuracy: 95.5556%\n",
      "Precion Değeri: \n",
      "0.9772727272727273\n",
      "Cofficient Değeri: \n",
      "[[16  0  0]\n",
      " [ 0 17  1]\n",
      " [ 1  0 10]]\n",
      "Roc Auc Değeri: \n",
      "0.970687264804912\n",
      "R2 Değeri: \n",
      "0.8889218987258203\n",
      "--------------------------\n",
      "OneVsRestClassifier:\n",
      "Accuracy: 66.6667%\n",
      "Precion Değeri: \n",
      "0.9393939393939394\n",
      "Cofficient Değeri: \n",
      "[[16  0  0]\n",
      " [13  4  1]\n",
      " [ 0  1 10]]\n",
      "Roc Auc Değeri: \n",
      "0.8592955700798838\n",
      "R2 Değeri: \n",
      "0.4969300851653793\n"
     ]
    }
   ],
   "source": [
    "modeller=[xgb,rfc,svm]\n",
    "for model in modeller:\n",
    "    isimler = model.__class__.__name__\n",
    "    y_pred = model.predict(X_test)\n",
    "    dogruluk = accuracy_score(y_test, y_pred)\n",
    "    precion=precision_score(y_test, y_pred,average='micro')\n",
    "    cof=confusion_matrix(y_test.argmax(axis=1), y_pred.argmax(axis=1))\n",
    "    roc=roc_auc_score(y_test, y_pred)\n",
    "    r2=r2_score(y_test, y_pred)\n",
    "    \n",
    "    print(\"-\"*26)\n",
    "    print(isimler + \":\" )\n",
    "    print(\"Accuracy: {:.4%}\".format(dogruluk))\n",
    "    print(\"Precion Değeri: \")\n",
    "    print(precion)\n",
    "    print(\"Cofficient Değeri: \")\n",
    "    print(cof)\n",
    "    print(\"Roc Auc Değeri: \")\n",
    "    print(roc)\n",
    "    print(\"R2 Değeri: \")\n",
    "    print(r2)"
   ]
  },
  {
   "cell_type": "markdown",
   "id": "13d9a3fc",
   "metadata": {},
   "source": [
    "# AYKIRI DEĞERLERİ ÇIKARMADAN ÖNCE Kİ HALİ"
   ]
  },
  {
   "cell_type": "code",
   "execution_count": null,
   "id": "8d7c5e61",
   "metadata": {},
   "outputs": [],
   "source": [
    "-------------------------\n",
    "XGBClassifier:\n",
    "Accuracy: 95.5556%\n",
    "Precion Değeri: \n",
    "0.9565217391304348\n",
    "Cofficient Değeri: \n",
    "[[16  0  0]\n",
    " [ 0 17  1]\n",
    " [ 0  1 10]]\n",
    "Roc Auc Değeri: \n",
    "0.9796659404502542\n",
    "R2 Değeri: \n",
    "0.898164653066614\n",
    "--------------------------\n",
    "RandomForestClassifier:\n",
    "Accuracy: 97.7778%\n",
    "Precion Değeri: \n",
    "0.9777777777777777\n",
    "Cofficient Değeri: \n",
    "[[16  0  0]\n",
    " [ 0 17  1]\n",
    " [ 0  0 11]]\n",
    "Roc Auc Değeri: \n",
    "0.9858387799564271\n",
    "R2 Değeri: \n",
    "0.9290288505974781\n",
    "--------------------------\n",
    "OneVsRestClassifier:\n",
    "Accuracy: 66.6667%\n",
    "Precion Değeri: \n",
    "0.9393939393939394\n",
    "Cofficient Değeri: \n",
    "[[16  0  0]\n",
    " [13  4  1]\n",
    " [ 0  1 10]]\n",
    "Roc Auc Değeri: \n",
    "0.8592955700798838\n",
    "R2 Değeri: \n",
    "0.4969300851653793"
   ]
  },
  {
   "cell_type": "code",
   "execution_count": null,
   "id": "edb2eff3",
   "metadata": {},
   "outputs": [],
   "source": []
  },
  {
   "cell_type": "code",
   "execution_count": null,
   "id": "4ecb7915",
   "metadata": {},
   "outputs": [],
   "source": []
  }
 ],
 "metadata": {
  "kernelspec": {
   "display_name": "Python 3 (ipykernel)",
   "language": "python",
   "name": "python3"
  },
  "language_info": {
   "codemirror_mode": {
    "name": "ipython",
    "version": 3
   },
   "file_extension": ".py",
   "mimetype": "text/x-python",
   "name": "python",
   "nbconvert_exporter": "python",
   "pygments_lexer": "ipython3",
   "version": "3.9.7"
  }
 },
 "nbformat": 4,
 "nbformat_minor": 5
}
